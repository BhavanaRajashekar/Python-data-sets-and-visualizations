{
  "cells": [
    {
      "cell_type": "markdown",
      "metadata": {
        "id": "view-in-github",
        "colab_type": "text"
      },
      "source": [
        "<a href=\"https://colab.research.google.com/github/BhavanaRajashekar/Analysing-TV-data-in-python/blob/main/section_3_API_based_scraping.ipynb\" target=\"_parent\"><img src=\"https://colab.research.google.com/assets/colab-badge.svg\" alt=\"Open In Colab\"/></a>"
      ]
    },
    {
      "cell_type": "markdown",
      "metadata": {
        "id": "dDo-GEIKC0Mr"
      },
      "source": [
        "[![Open In Colab](https://github.com/MonashDataFluency/python-web-scraping/blob/master/images/colab-badge.svg?raw=1)](https://colab.research.google.com/github/MonashDataFluency/python-web-scraping/blob/master/notebooks/section-3-API-based-scraping.ipynb)"
      ]
    },
    {
      "cell_type": "markdown",
      "metadata": {
        "id": "g6p2XqogC0Mx"
      },
      "source": [
        "<img src=\"https://github.com/MonashDataFluency/python-web-scraping/blob/master/images/api.png?raw=1\">"
      ]
    },
    {
      "cell_type": "markdown",
      "metadata": {
        "id": "8nm7uhHQC0My"
      },
      "source": [
        "### A brief introduction to APIs\n",
        "---"
      ]
    },
    {
      "cell_type": "markdown",
      "metadata": {
        "id": "HmWdcLnmC0M0"
      },
      "source": [
        "In this section, we will take a look at an alternative way to gather data than the previous pattern based HTML scraping. Sometimes websites offer an API (or Application Programming Interface) as a service which provides a high level interface to directly retrieve data from their repositories or databases at the backend. \n",
        "\n",
        "From Wikipedia,\n",
        "\n",
        "> \"*An API is typically defined as a set of specifications, such as Hypertext Transfer Protocol (HTTP) request messages, along with a definition of the structure of response messages, usually in an Extensible Markup Language (XML) or JavaScript Object Notation (JSON) format.*\"\n",
        "\n",
        "They typically tend to be URL endpoints (to be fired as requests) that need to be modified based on our requirements (what we desire in the response body) which then returns some a payload (data) within the response, formatted as either JSON, XML or HTML. \n",
        "\n",
        "A popular web architecture style called `REST` (or representational state transfer) allows users to interact with web services via `GET` and `POST` calls (two most commonly used) which we briefly saw in the previous section.\n",
        "\n",
        "For example, Twitter's REST API allows developers to access core Twitter data and the Search API provides methods for developers to interact with Twitter Search and trends data.\n",
        "\n",
        "There are primarily two ways to use APIs :\n",
        "\n",
        "- Through the command terminal using URL endpoints, or\n",
        "- Through programming language specific *wrappers*\n",
        "\n",
        "For example, `Tweepy` is a famous python wrapper for Twitter API whereas `twurl` is a command line interface (CLI) tool but both can achieve the same outcomes.\n",
        "\n",
        "Here we focus on the latter approach and will use a Python library (a wrapper) called `wptools` based around the original MediaWiki API.\n",
        "\n",
        "One advantage of using official APIs is that they are usually compliant of the terms of service (ToS) of a particular service that researchers are looking to gather data from. However, third-party libraries or packages which claim to provide more throughput than the official APIs (rate limits, number of requests/sec) generally operate in a gray area as they tend to violate ToS. Always be sure to read their documentation throughly."
      ]
    },
    {
      "cell_type": "markdown",
      "metadata": {
        "id": "FjQumaxrC0M2"
      },
      "source": [
        "### Wikipedia API\n",
        "---"
      ]
    },
    {
      "cell_type": "markdown",
      "metadata": {
        "id": "y6yQNx1UC0M3"
      },
      "source": [
        "Let's say we want to gather some additional data about the Fortune 500 companies and since wikipedia is a rich source for data we decide to use the MediaWiki API to scrape this data. One very good place to start would be to look at the **infoboxes** (as wikipedia defines them) of articles corresponsing to each company on the list. They essentially contain a wealth of metadata about a particular entity the article belongs to which in our case is a company. \n",
        "\n",
        "For e.g. consider the wikipedia article for **Walmart** (https://en.wikipedia.org/wiki/Walmart) which includes the following infobox :\n",
        "\n",
        "![An infobox](https://github.com/MonashDataFluency/python-web-scraping/blob/master/images/infobox.png?raw=1)\n",
        "\n",
        "As we can see from above, the infoboxes could provide us with a lot of valuable information such as :\n",
        "\n",
        "- Year of founding \n",
        "- Industry\n",
        "- Founder(s)\n",
        "- Products\t\n",
        "- Services\t\n",
        "- Operating income\n",
        "- Net income\n",
        "- Total assets\n",
        "- Total equity\n",
        "- Number of employees etc\n",
        "\n",
        "Although we expect this data to be fairly organized, it would require some post-processing which we will tackle in our next section. We pick a subset of our data and focus only on the top **20** of the Fortune 500 from the full list. \n",
        "\n",
        "Let's begin by installing some of libraries we will use for this excercise as follows,"
      ]
    },
    {
      "cell_type": "code",
      "execution_count": null,
      "metadata": {
        "id": "4bVbnUX6C0M5"
      },
      "outputs": [],
      "source": [
        "# sudo apt install libcurl4-openssl-dev libssl-dev\n",
        "!pip install wptools\n",
        "!pip install wikipedia\n",
        "!pip install wordcloud"
      ]
    },
    {
      "cell_type": "markdown",
      "metadata": {
        "id": "pHFbMWdeC0M8"
      },
      "source": [
        "Importing the same,"
      ]
    },
    {
      "cell_type": "code",
      "execution_count": null,
      "metadata": {
        "scrolled": true,
        "id": "IOQPQeF5C0M9",
        "outputId": "ffcfa0ea-9959-4306-dec9-974a33a76872"
      },
      "outputs": [
        {
          "name": "stdout",
          "output_type": "stream",
          "text": [
            "wptools version : 0.4.17\n"
          ]
        }
      ],
      "source": [
        "import json\n",
        "import wptools\n",
        "import wikipedia\n",
        "import pandas as pd\n",
        "\n",
        "print('wptools version : {}'.format(wptools.__version__)) # checking the installed version"
      ]
    },
    {
      "cell_type": "markdown",
      "metadata": {
        "id": "PT5iZ2U0C0NA"
      },
      "source": [
        "Now let's load the data which we scrapped in the previous section as follows,"
      ]
    },
    {
      "cell_type": "code",
      "execution_count": null,
      "metadata": {
        "id": "um0kLVM4C0NB",
        "outputId": "d8b3808a-a08e-447d-d06d-528282690658"
      },
      "outputs": [
        {
          "data": {
            "text/plain": [
              "('fortune_500_companies.csv', <http.client.HTTPMessage at 0x25ede05b320>)"
            ]
          },
          "execution_count": 5,
          "metadata": {},
          "output_type": "execute_result"
        }
      ],
      "source": [
        "# If you dont have the file, you can use the below code to fetch it:\n",
        "import urllib.request\n",
        "url = 'https://raw.githubusercontent.com/MonashDataFluency/python-web-scraping/master/data/fortune_500_companies.csv'\n",
        "urllib.request.urlretrieve(url, 'fortune_500_companies.csv')"
      ]
    },
    {
      "cell_type": "code",
      "execution_count": null,
      "metadata": {
        "scrolled": false,
        "id": "mHu4Ye17C0NC"
      },
      "outputs": [],
      "source": [
        "fname = 'fortune_500_companies.csv' # scrapped data from previous section\n",
        "df = pd.read_csv(fname)             # reading the csv file as a pandas df\n",
        "df.head()                           # displaying the first 5 rows"
      ]
    },
    {
      "cell_type": "markdown",
      "metadata": {
        "id": "yinKF5vvC0ND"
      },
      "source": [
        "|    |   rank | company_name       | company_website                  |\n",
        "|---:|-------:|:-------------------|:---------------------------------|\n",
        "|  0 |      1 | Walmart            | http://www.stock.walmart.com     |\n",
        "|  1 |      2 | Exxon Mobil        | http://www.exxonmobil.com        |\n",
        "|  2 |      3 | Berkshire Hathaway | http://www.berkshirehathaway.com |\n",
        "|  3 |      4 | Apple              | http://www.apple.com             |\n",
        "|  4 |      5 | UnitedHealth Group | http://www.unitedhealthgroup.com |\n"
      ]
    },
    {
      "cell_type": "markdown",
      "metadata": {
        "id": "oQPje9Y8C0NE"
      },
      "source": [
        "Let's focus and select only the top 20 companies from the list as follows,"
      ]
    },
    {
      "cell_type": "code",
      "execution_count": null,
      "metadata": {
        "id": "fS1l30R9C0NE"
      },
      "outputs": [],
      "source": [
        "no_of_companies = 20                         # no of companies we are interested \n",
        "df_sub = df.iloc[:no_of_companies, :].copy() # only selecting the top 20 companies\n",
        "companies = df_sub['company_name'].tolist()  # converting the column to a list"
      ]
    },
    {
      "cell_type": "markdown",
      "metadata": {
        "id": "vIXIW-uzC0NF"
      },
      "source": [
        "Taking a brief look at the same,"
      ]
    },
    {
      "cell_type": "code",
      "execution_count": null,
      "metadata": {
        "scrolled": true,
        "id": "gMWDZqzEC0NF",
        "outputId": "72a179dc-3be5-4b75-ecc5-52128e61ad4e"
      },
      "outputs": [
        {
          "name": "stdout",
          "output_type": "stream",
          "text": [
            "1. Walmart\n",
            "2. Exxon Mobil\n",
            "3. Berkshire Hathaway\n",
            "4. Apple\n",
            "5. UnitedHealth Group\n",
            "6. McKesson\n",
            "7. CVS Health\n",
            "8. Amazon.com\n",
            "9. AT&T\n",
            "10. General Motors\n",
            "11. Ford Motor\n",
            "12. AmerisourceBergen\n",
            "13. Chevron\n",
            "14. Cardinal Health\n",
            "15. Costco\n",
            "16. Verizon\n",
            "17. Kroger\n",
            "18. General Electric\n",
            "19. Walgreens Boots Alliance\n",
            "20. JPMorgan Chase\n"
          ]
        }
      ],
      "source": [
        "for i, j in enumerate(companies):   # looping through the list of 20 company \n",
        "    print('{}. {}'.format(i+1, j))  # printing out the same"
      ]
    },
    {
      "cell_type": "markdown",
      "metadata": {
        "id": "xmkvR4w2C0NG"
      },
      "source": [
        "### Getting article names from wiki"
      ]
    },
    {
      "cell_type": "markdown",
      "metadata": {
        "id": "_tMvKguJC0NG"
      },
      "source": [
        "Right off the bat, as you might have guessed, one issue with matching the top 20 Fortune 500 companies to their wikipedia article names is that both of them would not be exactly the same i.e. they match character for character. There will be slight variation in their names.\n",
        "\n",
        "To overcome this problem and ensure that we have all the company names and its corresponding wikipedia article, we will use the `wikipedia` package to get suggestions for the company names and their equivalent in wikipedia."
      ]
    },
    {
      "cell_type": "code",
      "execution_count": null,
      "metadata": {
        "id": "4fA71vUOC0NH"
      },
      "outputs": [],
      "source": [
        "wiki_search = [{company : wikipedia.search(company)} for company in companies]"
      ]
    },
    {
      "cell_type": "markdown",
      "metadata": {
        "id": "ARa-pZSdC0NI"
      },
      "source": [
        "Inspecting the same,"
      ]
    },
    {
      "cell_type": "code",
      "execution_count": null,
      "metadata": {
        "scrolled": false,
        "id": "Iqyth6dcC0NI",
        "outputId": "c6d733cd-8c01-4962-a3e0-b2d88177e825"
      },
      "outputs": [
        {
          "name": "stdout",
          "output_type": "stream",
          "text": [
            "1. Walmart :\n",
            "Walmart, History of Walmart, Criticism of Walmart, Walmarting, People of Walmart, Walmart (disambiguation), Walmart Canada, List of Walmart brands, Walmart Watch, 2019 El Paso shooting\n",
            "\n",
            "\n",
            "2. Exxon Mobil :\n",
            "ExxonMobil, Exxon, Mobil, Esso, ExxonMobil climate change controversy, Exxon Valdez oil spill, ExxonMobil Building, ExxonMobil Electrofrac, List of public corporations by market capitalization, Exxon Valdez\n",
            "\n",
            "\n",
            "3. Berkshire Hathaway :\n",
            "Berkshire Hathaway, Berkshire Hathaway Energy, List of assets owned by Berkshire Hathaway, Berkshire Hathaway Assurance, Berkshire Hathaway GUARD Insurance Companies, Warren Buffett, List of Berkshire Hathaway publications, The World's Billionaires, List of public corporations by market capitalization, David L. Sokol\n",
            "\n",
            "\n",
            "4. Apple :\n",
            "Apple, Apple Inc., IPhone, Apple (disambiguation), IPad, Apple Silicon, IOS, MacOS, Macintosh, Fiona Apple\n",
            "\n",
            "\n",
            "5. UnitedHealth Group :\n",
            "UnitedHealth Group, Optum, Pharmacy benefit management, William W. McGuire, Stephen J. Hemsley, Golden Rule Insurance Company, Catamaran Corporation, PacifiCare Health Systems, Gail Koziara Boudreaux, Amelia Warren Tyagi\n",
            "\n",
            "\n",
            "6. McKesson :\n",
            "McKesson Corporation, DeRay Mckesson, McKesson Europe, Malcolm McKesson, Rexall (Canada), McKesson Plaza, McKesson (disambiguation), Johnetta Elzie, McKesson & Robbins scandal (1938), John Hammergren\n",
            "\n",
            "\n",
            "7. CVS Health :\n",
            "CVS Health, CVS Pharmacy, CVS Health Charity Classic, CVS Caremark, Pharmacy benefit management, Larry Merlo, CVS, Encompass Health, Longs Drugs, MinuteClinic\n",
            "\n",
            "\n",
            "8. Amazon.com :\n",
            "Amazon (company), History of Amazon, List of Amazon products and services, Prime Video, List of Amazon original programming, Amazon Web Services, Dot-com bubble, List of mergers and acquisitions by Amazon, Amazon S3, .amazon\n",
            "\n",
            "\n",
            "9. AT&T :\n",
            "AT&T, AT&T Mobility, AT&T Corporation, AT&T TV, AT&T Stadium, T & T Supermarket, T, AT&T Communications, AT&T U-verse, AT&T SportsNet\n",
            "\n",
            "\n",
            "10. General Motors :\n",
            "General Motors, History of General Motors, General Motors EV1, General Motors Vortec engine, Vauxhall Motors, GMC (automobile), General Motors 122 engine, General Motors 60° V6 engine, General Motors Chapter 11 reorganization, List of General Motors factories\n",
            "\n",
            "\n",
            "11. Ford Motor :\n",
            "Ford Motor Company, History of Ford Motor Company, Lincoln Motor Company, Ford Trimotor, Henry Ford, Henry Ford II, Ford Foundation, Ford F-Series, Edsel Ford, Ford Germany\n",
            "\n",
            "\n",
            "12. AmerisourceBergen :\n",
            "AmerisourceBergen, List of largest companies by revenue, Cardinal Health, Steven H. Collis, Ornella Barra, Good Neighbor Pharmacy, Family Pharmacy, PharMerica, Remdesivir, Michael DiCandilo\n",
            "\n",
            "\n",
            "13. Chevron :\n",
            "Chevron Corporation, Chevron, Chevron (insignia), Philip Chevron, Chevron Cars Ltd, Chevron Cars, Chevron bead, Wound Chevron, Chevron (anatomy), Chevron Phillips Chemical\n",
            "\n",
            "\n",
            "14. Cardinal Health :\n",
            "Cardinal Health, Cardinal, Catalent, Cardinal (TV series), Robert D. Walter, Dublin, Ohio, Northern cardinal, List of largest companies by revenue, Cordis (medical), George S. Barrett\n",
            "\n",
            "\n",
            "15. Costco :\n",
            "Costco, W. Craig Jelinek, American Express, Price Club, James Sinegal, Rotisserie chicken, Jeffrey Brotman, Warehouse club, Richard Chang (Costco), Costco bear\n",
            "\n",
            "\n",
            "16. Verizon :\n",
            "Verizon Communications, Verizon Wireless, Verizon Media, Verizon Fios, Verizon Building, Verizon Delaware, Verizon Business, 4G, Verizon Hub, Verizon Hum\n",
            "\n",
            "\n",
            "17. Kroger :\n",
            "Kroger, Murder Kroger, Kroger (disambiguation), Chad Kroeger, Bernard Kroger, Michael Kroger, Stanley Kamel, Tonio Kröger, Rodney McMullen, List of Monk characters\n",
            "\n",
            "\n",
            "18. General Electric :\n",
            "General Electric, General Electric GEnx, General Electric CF6, General Electric F110, General Electric F404, General Electric GE9X, General Electric GE90, General Electric J85, General Electric F414, General Electric Company\n",
            "\n",
            "\n",
            "19. Walgreens Boots Alliance :\n",
            "Walgreens Boots Alliance, Alliance Boots, Walgreens, Boots (company), Alliance Healthcare, Stefano Pessina, Boots Opticians, Rite Aid, Ken Murphy (businessman), Gregory Wasson\n",
            "\n",
            "\n",
            "20. JPMorgan Chase :\n",
            "JPMorgan Chase, Chase Bank, 2012 JPMorgan Chase trading loss, JPMorgan Chase Tower (Houston), 270 Park Avenue, Chase Paymentech, 2014 JPMorgan Chase data breach, Bear Stearns, Jamie Dimon, JPMorgan Chase Building (Houston)\n",
            "\n",
            "\n"
          ]
        }
      ],
      "source": [
        "for idx, company in enumerate(wiki_search):\n",
        "    for i, j in company.items():\n",
        "        print('{}. {} :\\n{}'.format(idx+1, i ,', '.join(j)))\n",
        "        print('\\n')"
      ]
    },
    {
      "cell_type": "markdown",
      "metadata": {
        "id": "GmSVwpDUC0NJ"
      },
      "source": [
        "Now let's get the most probable ones (the first suggestion) for each of the first 20 companies on the Fortune 500 list,"
      ]
    },
    {
      "cell_type": "code",
      "execution_count": null,
      "metadata": {
        "id": "o8PkZvydC0NJ",
        "outputId": "d06b4c95-c72d-4a9c-d62e-dcef30d069e5"
      },
      "outputs": [
        {
          "name": "stdout",
          "output_type": "stream",
          "text": [
            "[('Walmart', 'Walmart'), ('Exxon Mobil', 'ExxonMobil'), ('Berkshire Hathaway', 'Berkshire Hathaway'), ('Apple', 'Apple'), ('UnitedHealth Group', 'UnitedHealth Group'), ('McKesson', 'McKesson Corporation'), ('CVS Health', 'CVS Health'), ('Amazon.com', 'Amazon (company)'), ('AT&T', 'AT&T'), ('General Motors', 'General Motors'), ('Ford Motor', 'Ford Motor Company'), ('AmerisourceBergen', 'AmerisourceBergen'), ('Chevron', 'Chevron Corporation'), ('Cardinal Health', 'Cardinal Health'), ('Costco', 'Costco'), ('Verizon', 'Verizon Communications'), ('Kroger', 'Kroger'), ('General Electric', 'General Electric'), ('Walgreens Boots Alliance', 'Walgreens Boots Alliance'), ('JPMorgan Chase', 'JPMorgan Chase')]\n"
          ]
        }
      ],
      "source": [
        "most_probable = [(company, wiki_search[i][company][0]) for i, company in enumerate(companies)]\n",
        "companies = [x[1] for x in most_probable]\n",
        "\n",
        "print(most_probable)"
      ]
    },
    {
      "cell_type": "markdown",
      "metadata": {
        "id": "8iGe2ctzC0NK"
      },
      "source": [
        "We can notice that most of the wiki article titles make sense. However, **Apple** is quite ambiguous in this regard as it can indicate the fruit as well as the company. However we can see that the second suggestion returned by was **Apple Inc.**. Hence, we can manually replace it with **Apple Inc.** as follows,"
      ]
    },
    {
      "cell_type": "code",
      "execution_count": null,
      "metadata": {
        "id": "ClTsTL0KC0NK",
        "outputId": "699ee099-1d27-4a9b-8a78-f491c17f2f59"
      },
      "outputs": [
        {
          "name": "stdout",
          "output_type": "stream",
          "text": [
            "['Walmart', 'ExxonMobil', 'Berkshire Hathaway', 'Apple Inc.', 'UnitedHealth Group', 'McKesson Corporation', 'CVS Health', 'Amazon (company)', 'AT&T', 'General Motors', 'Ford Motor Company', 'AmerisourceBergen', 'Chevron Corporation', 'Cardinal Health', 'Costco', 'Verizon Communications', 'Kroger', 'General Electric', 'Walgreens Boots Alliance', 'JPMorgan Chase']\n"
          ]
        }
      ],
      "source": [
        "companies[companies.index('Apple')] = 'Apple Inc.' # replacing \"Apple\"\n",
        "print(companies) # final list of wikipedia article titles"
      ]
    },
    {
      "cell_type": "markdown",
      "metadata": {
        "id": "RDuB3uezC0NL"
      },
      "source": [
        "### Retrieving the infoboxes"
      ]
    },
    {
      "cell_type": "markdown",
      "metadata": {
        "id": "lrCX-XuXC0NL"
      },
      "source": [
        "Now that we have mapped the names of the companies to their corresponding wikipedia article let's retrieve the infobox data from those pages. \n",
        "\n",
        "`wptools` provides easy to use methods to directly call the MediaWiki API on our behalf and get us all the wikipedia data. Let's try retrieving data for **Walmart** as follows,"
      ]
    },
    {
      "cell_type": "code",
      "execution_count": null,
      "metadata": {
        "scrolled": false,
        "id": "TTzIwuTgC0NM",
        "outputId": "22482817-b24a-4411-c681-558dd24eb561"
      },
      "outputs": [
        {
          "name": "stderr",
          "output_type": "stream",
          "text": [
            "en.wikipedia.org (parse) Walmart\n",
            "en.wikipedia.org (imageinfo) File:Walmart store exterior 5266815680.jpg\n",
            "Walmart (en) data\n",
            "{\n",
            "  image: <list(1)> {'kind': 'parse-image', 'file': 'File:Walmart s...\n",
            "  infobox: <dict(30)> name, logo, logo_caption, image, image_size,...\n",
            "  iwlinks: <list(2)> https://commons.wikimedia.org/wiki/Category:W...\n",
            "  pageid: 33589\n",
            "  parsetree: <str(347698)> <root><template><title>about</title><pa...\n",
            "  requests: <list(2)> parse, imageinfo\n",
            "  title: Walmart\n",
            "  wikibase: Q483551\n",
            "  wikidata_url: https://www.wikidata.org/wiki/Q483551\n",
            "  wikitext: <str(277438)> {{about|the retail chain|other uses}}{{p...\n",
            "}\n"
          ]
        },
        {
          "data": {
            "text/plain": [
              "<wptools.page.WPToolsPage at 0x25ede0ed588>"
            ]
          },
          "execution_count": 14,
          "metadata": {},
          "output_type": "execute_result"
        }
      ],
      "source": [
        "page = wptools.page('Walmart')\n",
        "page.get_parse()    # parses the wikipedia article"
      ]
    },
    {
      "cell_type": "markdown",
      "metadata": {
        "id": "mHUgnM55C0NM"
      },
      "source": [
        "As we can see from the output above, `wptools` successfully retrieved the wikipedia and wikidata corresponding to the query **Walmart**. Now inspecting the fetched attributes,"
      ]
    },
    {
      "cell_type": "code",
      "execution_count": null,
      "metadata": {
        "id": "nHS-7CA-C0NN",
        "outputId": "99fd6593-5e87-42ed-9c9a-d34e2062c09d"
      },
      "outputs": [
        {
          "data": {
            "text/plain": [
              "dict_keys(['requests', 'iwlinks', 'pageid', 'wikitext', 'parsetree', 'infobox', 'title', 'wikibase', 'wikidata_url', 'image'])"
            ]
          },
          "execution_count": 15,
          "metadata": {},
          "output_type": "execute_result"
        }
      ],
      "source": [
        "page.data.keys()"
      ]
    },
    {
      "cell_type": "markdown",
      "metadata": {
        "id": "j3ESE2XWC0NN"
      },
      "source": [
        "The attribute **infobox** contains the data we require,"
      ]
    },
    {
      "cell_type": "code",
      "execution_count": null,
      "metadata": {
        "id": "Y-t4zgXdC0NO",
        "outputId": "18d55035-8bb3-4138-95fb-b89f536514b3"
      },
      "outputs": [
        {
          "data": {
            "text/plain": [
              "{'name': 'Walmart Inc.',\n",
              " 'logo': 'Walmart logo.svg',\n",
              " 'logo_caption': \"Walmart's current logo since 2008\",\n",
              " 'image': 'Walmart store exterior 5266815680.jpg',\n",
              " 'image_size': '270px',\n",
              " 'image_caption': 'Exterior of a Walmart store',\n",
              " 'former_name': \"{{Unbulleted list|Walton's (1950–1969)|Wal-Mart, Inc. (1969–1970)|Wal-Mart Stores, Inc. (1970–2018)}}\",\n",
              " 'type': '[[Public company|Public]]',\n",
              " 'ISIN': 'US9311421039',\n",
              " 'industry': '[[Retail]]',\n",
              " 'traded_as': '{{Unbulleted list|NYSE|WMT|[[DJIA]] component|[[S&P 100]] component|[[S&P 500]] component}} {{NYSE|WMT}}',\n",
              " 'foundation': '{{Start date and age|1962|7|2}} (in [[Rogers, Arkansas]])',\n",
              " 'founder': '[[Sam Walton]]',\n",
              " 'location_city': '[[Bentonville, Arkansas]]',\n",
              " 'location_country': 'U.S.',\n",
              " 'locations': '{{decrease}} 11,484 stores worldwide (April 30, 2020)',\n",
              " 'area_served': 'Worldwide',\n",
              " 'key_people': '{{plainlist|\\n* [[Greg Penner]] ([[Chairman]])\\n* [[Doug McMillon]] ([[President (corporate title)|President]], [[CEO]])}}',\n",
              " 'products': '{{hlist|Electronics|Movies and music|Home and furniture|Home improvement|Clothing|Footwear|Jewelry|Toys|Health and beauty|Pet supplies|Sporting goods and fitness|Auto|Photo finishing|Craft supplies|Party supplies|Grocery}}',\n",
              " 'services': '{{hlist|[[Ria Money Transfer|Walmart-2-Walmart]]|Walmart MoneyCard|Pickup Today|Walmart.com|Financial Services| Walmart Pay}}',\n",
              " 'revenue': '{{increase}} {{US$|523.964 billion|link|=|yes}} {{small|([[Fiscal Year|FY]] 2020)}}',\n",
              " 'operating_income': '{{decrease}} {{US$|20.568 billion}} {{small|(FY 2020)}}',\n",
              " 'net_income': '{{increase}} {{US$|14.881 billion}} {{small|(FY 2020)}}',\n",
              " 'assets': '{{increase}} {{US$|236.495 billion}} {{small|(FY 2020)}}',\n",
              " 'equity': '{{increase}} {{US$|74.669 billion}} {{small|(FY 2020)}}',\n",
              " 'owner': '[[Walton family]] (50.85%)',\n",
              " 'num_employees': '{{plainlist|\\n* 2.2|nbsp|million, Worldwide (2018)|ref| name=\"xbrlus_1\" |\\n* 1.5|nbsp|million, U.S. (2017)|ref| name=\"Walmart\"|{{cite web |url = http://corporate.walmart.com/our-story/locations/united-states |title = Walmart Locations Around the World – United States |publisher = |url-status=live |archiveurl = https://web.archive.org/web/20150926012456/http://corporate.walmart.com/our-story/locations/united-states |archivedate = September 26, 2015 |df = mdy-all }}|</ref>|\\n* 700,000, International}} {{nbsp}} million, Worldwide (2018) * 1.5 {{nbsp}} million, U.S. (2017) * 700,000, International',\n",
              " 'divisions': \"{{Unbulleted list|Walmart U.S.|Walmart International|[[Sam's Club]]|Global eCommerce}}\",\n",
              " 'subsid': '[[List of assets owned by Walmart|List of subsidiaries]]',\n",
              " 'homepage': '{{URL|walmart.com}}'}"
            ]
          },
          "execution_count": 16,
          "metadata": {},
          "output_type": "execute_result"
        }
      ],
      "source": [
        "page.data['infobox']"
      ]
    },
    {
      "cell_type": "markdown",
      "metadata": {
        "id": "FVMRWgZMC0NO"
      },
      "source": [
        "Let's define a list of features that we want from the infoboxes as follows,"
      ]
    },
    {
      "cell_type": "code",
      "execution_count": null,
      "metadata": {
        "id": "FmVFn1imC0NO"
      },
      "outputs": [],
      "source": [
        "wiki_data = []\n",
        "# attributes of interest contained within the wiki infoboxes\n",
        "features = ['founder', 'location_country', 'revenue', 'operating_income', 'net_income', 'assets',\n",
        "        'equity', 'type', 'industry', 'products', 'num_employees']"
      ]
    },
    {
      "cell_type": "markdown",
      "metadata": {
        "id": "msTt3PqiC0NO"
      },
      "source": [
        "Now fetching the data for all the companies (this may take a while),"
      ]
    },
    {
      "cell_type": "code",
      "execution_count": null,
      "metadata": {
        "scrolled": false,
        "id": "L5ONkb-uC0NP",
        "outputId": "0f722fb9-6aad-40ea-93df-5c0ea0eaf6fb"
      },
      "outputs": [
        {
          "name": "stderr",
          "output_type": "stream",
          "text": [
            "en.wikipedia.org (parse) Walmart\n",
            "en.wikipedia.org (imageinfo) File:Walmart store exterior 5266815680.jpg\n",
            "Walmart (en) data\n",
            "{\n",
            "  image: <list(1)> {'kind': 'parse-image', 'file': 'File:Walmart s...\n",
            "  infobox: <dict(30)> name, logo, logo_caption, image, image_size,...\n",
            "  iwlinks: <list(2)> https://commons.wikimedia.org/wiki/Category:W...\n",
            "  pageid: 33589\n",
            "  parsetree: <str(347698)> <root><template><title>about</title><pa...\n",
            "  requests: <list(2)> parse, imageinfo\n",
            "  title: Walmart\n",
            "  wikibase: Q483551\n",
            "  wikidata_url: https://www.wikidata.org/wiki/Q483551\n",
            "  wikitext: <str(277438)> {{about|the retail chain|other uses}}{{p...\n",
            "}\n",
            "en.wikipedia.org (parse) ExxonMobil\n",
            "en.wikipedia.org (imageinfo) File:Exxonmobil-headquarters-1.jpg\n",
            "ExxonMobil (en) data\n",
            "{\n",
            "  image: <list(1)> {'kind': 'parse-image', 'file': 'File:Exxonmobi...\n",
            "  infobox: <dict(30)> name, logo, image, image_caption, type, trad...\n",
            "  iwlinks: <list(4)> https://commons.wikimedia.org/wiki/Category:E...\n",
            "  pageid: 18848197\n",
            "  parsetree: <str(192545)> <root><template><title>short descriptio...\n",
            "  requests: <list(2)> parse, imageinfo\n",
            "  title: ExxonMobil\n",
            "  wikibase: Q156238\n",
            "  wikidata_url: https://www.wikidata.org/wiki/Q156238\n",
            "  wikitext: <str(157036)> {{short description|American multination...\n",
            "}\n",
            "en.wikipedia.org (parse) Berkshire Hathaway\n",
            "Berkshire Hathaway (en) data\n",
            "{\n",
            "  image: <list(0)> \n",
            "  infobox: <dict(24)> name, former_name, logo, image, image_captio...\n",
            "  iwlinks: <list(1)> https://commons.wikimedia.org/wiki/Category:B...\n",
            "  pageid: 314333\n",
            "  parsetree: <str(105467)> <root><template><title>short descriptio...\n",
            "  requests: <list(1)> parse\n",
            "  title: Berkshire Hathaway\n",
            "  wikibase: Q217583\n",
            "  wikidata_url: https://www.wikidata.org/wiki/Q217583\n",
            "  wikitext: <str(89908)> {{short description|American multinationa...\n",
            "}\n",
            "en.wikipedia.org (parse) Apple Inc.\n",
            "en.wikipedia.org (imageinfo) File:Apple park cupertino 2019.jpg\n",
            "Apple Inc. (en) data\n",
            "{\n",
            "  image: <list(1)> {'kind': 'parse-image', 'file': 'File:Apple par...\n",
            "  infobox: <dict(35)> name, logo, logo_size, image, image_size, im...\n",
            "  iwlinks: <list(8)> https://commons.wikimedia.org/wiki/Special:Se...\n",
            "  pageid: 856\n",
            "  parsetree: <str(419620)> <root><template><title>Redirect</title>...\n",
            "  requests: <list(2)> parse, imageinfo\n",
            "  title: Apple Inc.\n",
            "  wikibase: Q312\n",
            "  wikidata_url: https://www.wikidata.org/wiki/Q312\n",
            "  wikitext: <str(335917)> {{Redirect|Apple (company)|other compani...\n",
            "}\n",
            "en.wikipedia.org (parse) UnitedHealth Group\n",
            "UnitedHealth Group (en) data\n",
            "{\n",
            "  infobox: <dict(17)> name, logo, type, traded_as, founder, key_pe...\n",
            "  pageid: 1845551\n",
            "  parsetree: <str(87066)> <root><template><title>Redirect</title><...\n",
            "  requests: <list(1)> parse\n",
            "  title: UnitedHealth Group\n",
            "  wikibase: Q2103926\n",
            "  wikidata_url: https://www.wikidata.org/wiki/Q2103926\n",
            "  wikitext: <str(74588)> {{Redirect|UnitedHealthcare|the cycling t...\n",
            "}\n",
            "en.wikipedia.org (parse) McKesson Corporation\n",
            "McKesson Corporation (en) data\n",
            "{\n",
            "  infobox: <dict(19)> name, logo, type, traded_as, founder, locati...\n",
            "  pageid: 1041603\n",
            "  parsetree: <str(40259)> <root><template><title>Redirect</title><...\n",
            "  requests: <list(1)> parse\n",
            "  title: McKesson Corporation\n",
            "  wikibase: Q570473\n",
            "  wikidata_url: https://www.wikidata.org/wiki/Q570473\n",
            "  wikitext: <str(32180)> {{Redirect|McKesson}}{{short description|...\n",
            "}\n",
            "en.wikipedia.org (parse) CVS Health\n",
            "CVS Health (en) data\n",
            "{\n",
            "  infobox: <dict(28)> name, logo, logo_size, former_name, type, tr...\n",
            "  pageid: 10377597\n",
            "  parsetree: <str(70825)> <root><template><title>short description...\n",
            "  requests: <list(1)> parse\n",
            "  title: CVS Health\n",
            "  wikibase: Q624375\n",
            "  wikidata_url: https://www.wikidata.org/wiki/Q624375\n",
            "  wikitext: <str(54943)> {{short description|American healthcare c...\n",
            "}\n",
            "en.wikipedia.org (parse) Amazon (company)\n",
            "en.wikipedia.org (imageinfo) File:Amazon Spheres 05.jpg\n",
            "Amazon (company) (en) data\n",
            "{\n",
            "  image: <list(1)> {'kind': 'parse-image', 'file': 'File:Amazon Sp...\n",
            "  infobox: <dict(32)> name, logo, logo_size, image, image_caption,...\n",
            "  iwlinks: <list(2)> https://commons.wikimedia.org/wiki/Category:A...\n",
            "  pageid: 90451\n",
            "  parsetree: <str(183373)> <root><template><title>short descriptio...\n",
            "  requests: <list(2)> parse, imageinfo\n",
            "  title: Amazon (company)\n",
            "  wikibase: Q3884\n",
            "  wikidata_url: https://www.wikidata.org/wiki/Q3884\n",
            "  wikitext: <str(142559)> {{short description|American technology ...\n",
            "}\n",
            "en.wikipedia.org (parse) AT&T\n",
            "en.wikipedia.org (imageinfo) File:AT&THQDallas.jpg\n",
            "AT&T (en) data\n",
            "{\n",
            "  image: <list(1)> {'kind': 'parse-image', 'file': 'File:AT&THQDal...\n",
            "  infobox: <dict(28)> name, logo, logo_size, image, image_size, im...\n",
            "  iwlinks: <list(1)> https://commons.wikimedia.org/wiki/Category:AT%26T\n",
            "  pageid: 17555269\n",
            "  parsetree: <str(136294)> <root><template><title>about</title><pa...\n",
            "  requests: <list(2)> parse, imageinfo\n",
            "  title: AT&T\n",
            "  wikibase: Q35476\n",
            "  wikidata_url: https://www.wikidata.org/wiki/Q35476\n",
            "  wikitext: <str(109258)> {{about|the company known as AT&T since ...\n",
            "}\n",
            "en.wikipedia.org (parse) General Motors\n",
            "en.wikipedia.org (imageinfo) File:RenCen.JPG\n",
            "General Motors (en) data\n",
            "{\n",
            "  image: <list(1)> {'kind': 'parse-image', 'file': 'File:RenCen.JP...\n",
            "  infobox: <dict(30)> name, former_name, logo, logo_size, image, i...\n",
            "  iwlinks: <list(2)> https://commons.wikimedia.org/wiki/Category:G...\n",
            "  pageid: 12102\n",
            "  parsetree: <str(187427)> <root><template><title>short descriptio...\n",
            "  requests: <list(2)> parse, imageinfo\n",
            "  title: General Motors\n",
            "  wikibase: Q81965\n",
            "  wikidata_url: https://www.wikidata.org/wiki/Q81965\n",
            "  wikitext: <str(146919)> {{short description|American automotive ...\n",
            "}\n",
            "en.wikipedia.org (parse) Ford Motor Company\n",
            "en.wikipedia.org (imageinfo) File:FordGlassHouse.jpg\n",
            "Ford Motor Company (en) data\n",
            "{\n",
            "  image: <list(1)> {'kind': 'parse-image', 'file': 'File:FordGlass...\n",
            "  infobox: <dict(27)> name, logo, image, image_size, image_caption...\n",
            "  iwlinks: <list(8)> https://commons.wikimedia.org/wiki/Category:F...\n",
            "  pageid: 30433662\n",
            "  parsetree: <str(197053)> <root><template><title>Redirect</title>...\n",
            "  requests: <list(2)> parse, imageinfo\n",
            "  title: Ford Motor Company\n",
            "  wikibase: Q44294\n",
            "  wikidata_url: https://www.wikidata.org/wiki/Q44294\n",
            "  wikitext: <str(160388)> {{Redirect|Ford}}{{pp-semi-indef}}{{pp-m...\n",
            "}\n",
            "en.wikipedia.org (parse) AmerisourceBergen\n",
            "AmerisourceBergen (en) data\n",
            "{\n",
            "  infobox: <dict(17)> name, logo, type, traded_as, foundation, loc...\n",
            "  pageid: 1445945\n",
            "  parsetree: <str(21535)> <root><template><title>short description...\n",
            "  requests: <list(1)> parse\n",
            "  title: AmerisourceBergen\n",
            "  wikibase: Q470156\n",
            "  wikidata_url: https://www.wikidata.org/wiki/Q470156\n",
            "  wikitext: <str(16172)> {{short description|American healthcare c...\n",
            "}\n",
            "en.wikipedia.org (parse) Chevron Corporation\n",
            "Chevron Corporation (en) data\n",
            "{\n",
            "  image: <list(0)> \n",
            "  infobox: <dict(24)> name, logo, logo_size, logo_caption, image, ...\n",
            "  iwlinks: <list(2)> https://commons.wikimedia.org/wiki/Category:C...\n",
            "  pageid: 284749\n",
            "  parsetree: <str(125957)> <root><template><title>short descriptio...\n",
            "  requests: <list(1)> parse\n",
            "  title: Chevron Corporation\n",
            "  wikibase: Q319642\n",
            "  wikidata_url: https://www.wikidata.org/wiki/Q319642\n",
            "  wikitext: <str(102739)> {{short description|American multination...\n",
            "}\n",
            "en.wikipedia.org (parse) Cardinal Health\n",
            "Cardinal Health (en) data\n",
            "{\n",
            "  infobox: <dict(17)> name, logo, type, traded_as, industry, found...\n",
            "  pageid: 1041632\n",
            "  parsetree: <str(33864)> <root><template><title>Infobox company</...\n",
            "  requests: <list(1)> parse\n",
            "  title: Cardinal Health\n",
            "  wikibase: Q902397\n",
            "  wikidata_url: https://www.wikidata.org/wiki/Q902397\n",
            "  wikitext: <str(26601)> {{Infobox company| name = Cardinal Health...\n",
            "}\n",
            "en.wikipedia.org (parse) Costco\n",
            "en.wikipedia.org (imageinfo) File:Costcoheadquarters.jpg\n",
            "Costco (en) data\n",
            "{\n",
            "  image: <list(1)> {'kind': 'parse-image', 'file': 'File:Costcohea...\n",
            "  infobox: <dict(35)> name, logo, logo_caption, image, image_size,...\n",
            "  iwlinks: <list(1)> https://commons.wikimedia.org/wiki/Category:Costco\n",
            "  pageid: 446056\n",
            "  parsetree: <str(101971)> <root><template><title>Distinguish</tit...\n",
            "  requests: <list(2)> parse, imageinfo\n",
            "  title: Costco\n",
            "  wikibase: Q715583\n",
            "  wikidata_url: https://www.wikidata.org/wiki/Q715583\n",
            "  wikitext: <str(76641)> {{Distinguish|COSCO|Cosco (India) Limited...\n",
            "}\n",
            "en.wikipedia.org (parse) Verizon Communications\n"
          ]
        },
        {
          "name": "stderr",
          "output_type": "stream",
          "text": [
            "en.wikipedia.org (imageinfo) File:Verizon Building (8156005279).jpg\n",
            "Verizon Communications (en) data\n",
            "{\n",
            "  image: <list(1)> {'kind': 'parse-image', 'file': 'File:Verizon B...\n",
            "  infobox: <dict(32)> name, logo, image, image_size, image_caption...\n",
            "  iwlinks: <list(3)> https://commons.wikimedia.org/wiki/Category:T...\n",
            "  pageid: 18619278\n",
            "  parsetree: <str(154091)> <root><template><title>redirect</title>...\n",
            "  requests: <list(2)> parse, imageinfo\n",
            "  title: Verizon Communications\n",
            "  wikibase: Q467752\n",
            "  wikidata_url: https://www.wikidata.org/wiki/Q467752\n",
            "  wikitext: <str(130536)> {{redirect|Verizon|its mobile network su...\n",
            "}\n",
            "en.wikipedia.org (parse) Kroger\n",
            "en.wikipedia.org (imageinfo) File:Cincinnati-kroger-building.jpg\n",
            "Kroger (en) data\n",
            "{\n",
            "  image: <list(1)> {'kind': 'parse-image', 'file': 'File:Cincinnat...\n",
            "  infobox: <dict(24)> name, logo, image, image_caption, type, trad...\n",
            "  iwlinks: <list(1)> https://commons.wikimedia.org/wiki/Category:Kroger\n",
            "  pageid: 367762\n",
            "  parsetree: <str(121075)> <root><template><title>short descriptio...\n",
            "  requests: <list(2)> parse, imageinfo\n",
            "  title: Kroger\n",
            "  wikibase: Q153417\n",
            "  wikidata_url: https://www.wikidata.org/wiki/Q153417\n",
            "  wikitext: <str(101498)> {{short description|American multination...\n",
            "}\n",
            "en.wikipedia.org (parse) General Electric\n",
            "General Electric (en) data\n",
            "{\n",
            "  infobox: <dict(20)> name, logo, type, traded_as, ISIN, industry,...\n",
            "  iwlinks: <list(1)> https://commons.wikimedia.org/wiki/Category:G...\n",
            "  pageid: 12730\n",
            "  parsetree: <str(165322)> <root><template><title>redirect</title>...\n",
            "  requests: <list(1)> parse\n",
            "  title: General Electric\n",
            "  wikibase: Q54173\n",
            "  wikidata_url: https://www.wikidata.org/wiki/Q54173\n",
            "  wikitext: <str(140011)> {{redirect|GE}}{{distinguish|text=the fo...\n",
            "}\n",
            "en.wikipedia.org (parse) Walgreens Boots Alliance\n",
            "Walgreens Boots Alliance (en) data\n",
            "{\n",
            "  infobox: <dict(29)> name, logo, logo_size, type, traded_as, pred...\n",
            "  pageid: 44732533\n",
            "  parsetree: <str(32556)> <root><template><title>Use mdy dates</ti...\n",
            "  requests: <list(1)> parse\n",
            "  title: Walgreens Boots Alliance\n",
            "  wikibase: Q18712620\n",
            "  wikidata_url: https://www.wikidata.org/wiki/Q18712620\n",
            "  wikitext: <str(25068)> {{Use mdy dates|date=October 2019}}{{shor...\n",
            "}\n",
            "en.wikipedia.org (parse) JPMorgan Chase\n",
            "en.wikipedia.org (imageinfo) File:383 Madison Ave Bear Stearns C ...\n",
            "JPMorgan Chase (en) data\n",
            "{\n",
            "  image: <list(1)> {'kind': 'parse-image', 'file': 'File:383 Madis...\n",
            "  infobox: <dict(31)> name, logo, image, image_caption, type, trad...\n",
            "  iwlinks: <list(2)> https://commons.wikimedia.org/wiki/Category:J...\n",
            "  pageid: 231001\n",
            "  parsetree: <str(144960)> <root><template><title>About</title><pa...\n",
            "  requests: <list(2)> parse, imageinfo\n",
            "  title: JPMorgan Chase\n",
            "  wikibase: Q192314\n",
            "  wikidata_url: https://www.wikidata.org/wiki/Q192314\n",
            "  wikitext: <str(117507)> {{About|JPMorgan Chase & Co|its main sub...\n",
            "}\n"
          ]
        }
      ],
      "source": [
        "for company in companies:    \n",
        "    page = wptools.page(company) # create a page object\n",
        "    try:\n",
        "        page.get_parse() # call the API and parse the data\n",
        "        if page.data['infobox'] != None:\n",
        "            # if infobox is present\n",
        "            infobox = page.data['infobox']\n",
        "            # get data for the interested features/attributes\n",
        "            data = { feature : infobox[feature] if feature in infobox else '' \n",
        "                         for feature in features }\n",
        "        else:\n",
        "            data = { feature : '' for feature in features }\n",
        "        \n",
        "        data['company_name'] = company\n",
        "        wiki_data.append(data)\n",
        "        \n",
        "    except KeyError:\n",
        "        pass"
      ]
    },
    {
      "cell_type": "markdown",
      "metadata": {
        "id": "hwqxGLBdC0NP"
      },
      "source": [
        "Let's take a look at the first instance in `wiki_data` i.e. **Walmart**,"
      ]
    },
    {
      "cell_type": "code",
      "execution_count": null,
      "metadata": {
        "scrolled": false,
        "id": "NbTp7MvcC0NP",
        "outputId": "71ec8509-c21e-4c3b-ec3a-2ec0254e5170"
      },
      "outputs": [
        {
          "data": {
            "text/plain": [
              "{'founder': '[[Sam Walton]]',\n",
              " 'location_country': 'U.S.',\n",
              " 'revenue': '{{increase}} {{US$|523.964 billion|link|=|yes}} {{small|([[Fiscal Year|FY]] 2020)}}',\n",
              " 'operating_income': '{{decrease}} {{US$|20.568 billion}} {{small|(FY 2020)}}',\n",
              " 'net_income': '{{increase}} {{US$|14.881 billion}} {{small|(FY 2020)}}',\n",
              " 'assets': '{{increase}} {{US$|236.495 billion}} {{small|(FY 2020)}}',\n",
              " 'equity': '{{increase}} {{US$|74.669 billion}} {{small|(FY 2020)}}',\n",
              " 'type': '[[Public company|Public]]',\n",
              " 'industry': '[[Retail]]',\n",
              " 'products': '{{hlist|Electronics|Movies and music|Home and furniture|Home improvement|Clothing|Footwear|Jewelry|Toys|Health and beauty|Pet supplies|Sporting goods and fitness|Auto|Photo finishing|Craft supplies|Party supplies|Grocery}}',\n",
              " 'num_employees': '{{plainlist|\\n* 2.2|nbsp|million, Worldwide (2018)|ref| name=\"xbrlus_1\" |\\n* 1.5|nbsp|million, U.S. (2017)|ref| name=\"Walmart\"|{{cite web |url = http://corporate.walmart.com/our-story/locations/united-states |title = Walmart Locations Around the World – United States |publisher = |url-status=live |archiveurl = https://web.archive.org/web/20150926012456/http://corporate.walmart.com/our-story/locations/united-states |archivedate = September 26, 2015 |df = mdy-all }}|</ref>|\\n* 700,000, International}} {{nbsp}} million, Worldwide (2018) * 1.5 {{nbsp}} million, U.S. (2017) * 700,000, International',\n",
              " 'company_name': 'Walmart'}"
            ]
          },
          "execution_count": 19,
          "metadata": {},
          "output_type": "execute_result"
        }
      ],
      "source": [
        "wiki_data[0]"
      ]
    },
    {
      "cell_type": "markdown",
      "metadata": {
        "id": "jEtWfymSC0NQ"
      },
      "source": [
        "So, we have successfully retrieved all the infobox data for the companies. Also we can notice that some additional wrangling and cleaning is required which we will perform in the next section. "
      ]
    },
    {
      "cell_type": "markdown",
      "metadata": {
        "id": "0c9TXY26C0NQ"
      },
      "source": [
        "Finally, let's export the scraped infoboxes as a single JSON file to a convenient location as follows,"
      ]
    },
    {
      "cell_type": "code",
      "execution_count": null,
      "metadata": {
        "id": "_TRYXa_MC0NQ"
      },
      "outputs": [],
      "source": [
        "with open('infoboxes.json', 'w') as file:\n",
        "    json.dump(wiki_data, file)"
      ]
    },
    {
      "cell_type": "markdown",
      "metadata": {
        "id": "Ra9BD9OYC0NQ"
      },
      "source": [
        "### References\n",
        "\n",
        "- https://phpenthusiast.com/blog/what-is-rest-api\n",
        "- https://github.com/siznax/wptools/wiki/Data-captured\n",
        "- https://en.wikipedia.org/w/api.php\n",
        "- https://wikipedia.readthedocs.io/en/latest/code.html"
      ]
    }
  ],
  "metadata": {
    "kernelspec": {
      "display_name": "Python 3",
      "language": "python",
      "name": "python3"
    },
    "language_info": {
      "codemirror_mode": {
        "name": "ipython",
        "version": 3
      },
      "file_extension": ".py",
      "mimetype": "text/x-python",
      "name": "python",
      "nbconvert_exporter": "python",
      "pygments_lexer": "ipython3",
      "version": "3.8.2"
    },
    "colab": {
      "provenance": [],
      "include_colab_link": true
    }
  },
  "nbformat": 4,
  "nbformat_minor": 0
}